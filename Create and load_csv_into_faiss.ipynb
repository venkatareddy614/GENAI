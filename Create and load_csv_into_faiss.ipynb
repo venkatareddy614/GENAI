{
 "cells": [
  {
   "cell_type": "code",
   "execution_count": 59,
   "id": "e283cf06",
   "metadata": {},
   "outputs": [],
   "source": [
    "#pip install pandas faiss-cpu sentence-transformers\n",
    "import pandas as pd\n",
    "from sentence_transformers import SentenceTransformer\n",
    "import faiss\n",
    "import numpy as np"
   ]
  },
  {
   "cell_type": "code",
   "execution_count": 60,
   "id": "06ff4f2e",
   "metadata": {},
   "outputs": [],
   "source": [
    "df = pd.DataFrame({'id':[1,2,3],'text': [\"data  engineer\",\"Data scientist\",\"AI engineer\"]})\n",
    "df.to_csv(\"engineer.csv\",index=False)\n",
    "df = pd.read_csv(\"engineer.csv\")\n",
    "\n",
    "texts =df[\"text\"].tolist()"
   ]
  },
  {
   "cell_type": "code",
   "execution_count": 61,
   "id": "f594eb50",
   "metadata": {},
   "outputs": [
    {
     "name": "stdout",
     "output_type": "stream",
     "text": [
      "FAISS index built with 3 document.\n"
     ]
    }
   ],
   "source": [
    "model = SentenceTransformer(\"all-MiniLM-L6-v2\")\n",
    "embeddings = model.encode(texts,convert_to_numpy=True)\n",
    "dimension = embeddings.shape[1]\n",
    "index = faiss.IndexFlatL2(dimension)\n",
    "index.add(embeddings)\n",
    "print(\"FAISS index built with\",index.ntotal,\"document.\")"
   ]
  },
  {
   "cell_type": "code",
   "execution_count": 62,
   "id": "08658ec9",
   "metadata": {},
   "outputs": [
    {
     "name": "stdout",
     "output_type": "stream",
     "text": [
      "Top matchs:\n",
      "AI engineer\n",
      "Data scientist\n",
      "data  engineer\n"
     ]
    }
   ],
   "source": [
    "query = \"AI\"\n",
    "query_vec = model.encode([query])\n",
    "#print(query_vec)\n",
    "D, I = index.search(np.array(query_vec),k=3)\n",
    "print(\"Top matchs:\")\n",
    "for i in I[0]:\n",
    "    print(df.iloc[i][\"text\"])"
   ]
  }
 ],
 "metadata": {
  "kernelspec": {
   "display_name": "Python 3",
   "language": "python",
   "name": "python3"
  },
  "language_info": {
   "codemirror_mode": {
    "name": "ipython",
    "version": 3
   },
   "file_extension": ".py",
   "mimetype": "text/x-python",
   "name": "python",
   "nbconvert_exporter": "python",
   "pygments_lexer": "ipython3",
   "version": "3.13.5"
  }
 },
 "nbformat": 4,
 "nbformat_minor": 5
}
