#pip install pandas faiss-cpu sentence-transformers
import pandas as pd
from sentence_transformers import SentenceTransformer
import faiss
import numpy as np

df = pd.DataFrame({'id':[1,2,3],'text': ["data  engineer","Data scientist","AI engineer"]})
df.to_csv("engineer.csv",index=False)
df = pd.read_csv("engineer.csv")
texts =df["text"].tolist()

model = SentenceTransformer("all-MiniLM-L6-v2")
embeddings = model.encode(texts,convert_to_numpy=True)
dimension = embeddings.shape[1]
index = faiss.IndexFlatL2(dimension)
index.add(embeddings)

print("FAISS index built with",index.ntotal,"document.")

query = "AI"
query_vec = model.encode([query])
#print(query_vec)
D, I = index.search(np.array(query_vec),k=3)
print("Top matchs:")
for i in I[0]:
    print(df.iloc[i]["text"])